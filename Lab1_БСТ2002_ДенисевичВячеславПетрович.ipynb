{
 "cells": [
  {
   "cell_type": "code",
   "execution_count": 4,
   "id": "1c000e61",
   "metadata": {},
   "outputs": [],
   "source": [
    "#Лабораторная работа №1\n",
    "##Выполнил студент группы БСТ2002 Денисевич В П\n",
    "###Задание 1\n"
   ]
  },
  {
   "cell_type": "code",
   "execution_count": 5,
   "id": "d48507c4",
   "metadata": {},
   "outputs": [
    {
     "name": "stdout",
     "output_type": "stream",
     "text": [
      "Hellow, world!\n"
     ]
    }
   ],
   "source": [
    "print(\"Hellow, world!\")"
   ]
  },
  {
   "cell_type": "code",
   "execution_count": null,
   "id": "fbfc0595",
   "metadata": {},
   "outputs": [],
   "source": [
    "import random\n",
    "\n",
    "m = 3\n",
    "n = 3\n",
    "min_limit = -250\n",
    "max_limit = 1004\n",
    "mas = [[random.randint(min_limit, max_limit) for i in range(m)] for j in range(n)]\n",
    "print(mas)"
   ]
  },
  {
   "cell_type": "code",
   "execution_count": null,
   "id": "04a589f8",
   "metadata": {},
   "outputs": [],
   "source": [
    "#сортировка выбором\n",
    "def sort(array):\n",
    "    nam=0#номер внутреннего массива\n",
    "    while nam<len(array):\n",
    "        for i in range(len(array[nam]) - 1):\n",
    "            m = i\n",
    "            j = i + 1\n",
    "            while j < len(array[nam]):\n",
    "                if array[nam][j] < array[nam][m]:\n",
    "                    m = j\n",
    "                j = j + 1\n",
    "            array[nam][i], array[nam][m] = array[nam][m], array[nam][i]\n",
    "        nam+=1\n",
    "    return array"
   ]
  },
  {
   "cell_type": "code",
   "execution_count": null,
   "id": "645dd3c7",
   "metadata": {},
   "outputs": [],
   "source": [
    "#сортировка вставкой\n",
    "def sortvstav(array):\n",
    "    nam = 0\n",
    "    while nam < len(array):\n",
    "        for i in range(1, len(array[nam])):\n",
    "            t = array[nam][i]\n",
    "            j = i - 1\n",
    "            while j >= 0 and t < array[nam][j]:\n",
    "                array[nam][j + 1] = array[nam][j]\n",
    "                j -= 1\n",
    "            array[nam][j + 1] = t\n",
    "        nam += 1\n",
    "    return array"
   ]
  },
  {
   "cell_type": "code",
   "execution_count": null,
   "id": "8b4e622c",
   "metadata": {},
   "outputs": [],
   "source": [
    "#сортировка обменом\n",
    "def sortobmen(array):\n",
    "    nam = 0\n",
    "    while nam < len(array):\n",
    "        swapped = True\n",
    "        while swapped:\n",
    "            swapped = False\n",
    "            for i in range(len(array[nam]) - 1):\n",
    "                if array[nam][i] > array[nam][i + 1]:\n",
    "                    array[nam][i], array[nam][i + 1] = array[nam][i + 1], array[nam][i]\n",
    "                    swapped = True\n",
    "        nam += 1\n",
    "    return array"
   ]
  }
 ],
 "metadata": {
  "kernelspec": {
   "display_name": "Python 3 (ipykernel)",
   "language": "python",
   "name": "python3"
  },
  "language_info": {
   "codemirror_mode": {
    "name": "ipython",
    "version": 3
   },
   "file_extension": ".py",
   "mimetype": "text/x-python",
   "name": "python",
   "nbconvert_exporter": "python",
   "pygments_lexer": "ipython3",
   "version": "3.9.7"
  }
 },
 "nbformat": 4,
 "nbformat_minor": 5
}
